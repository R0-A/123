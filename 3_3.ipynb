{
 "cells": [
  {
   "cell_type": "code",
   "execution_count": null,
   "id": "5a44555b",
   "metadata": {},
   "outputs": [],
   "source": [
    "啊实打实大苏打自行车ZX"
   ]
  }
 ],
 "metadata": {
  "language_info": {
   "name": "python"
  }
 },
 "nbformat": 4,
 "nbformat_minor": 5
}
